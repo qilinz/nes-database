{
 "cells": [
  {
   "cell_type": "code",
   "execution_count": 1,
   "id": "dc8b4016",
   "metadata": {},
   "outputs": [],
   "source": [
    "import pandas as pd"
   ]
  },
  {
   "cell_type": "code",
   "execution_count": 2,
   "id": "734c9035",
   "metadata": {},
   "outputs": [],
   "source": [
    "df = pd.read_csv(\"game_data.csv\")"
   ]
  },
  {
   "cell_type": "code",
   "execution_count": 3,
   "id": "f699706f",
   "metadata": {},
   "outputs": [
    {
     "data": {
      "text/html": [
       "<div>\n",
       "<style scoped>\n",
       "    .dataframe tbody tr th:only-of-type {\n",
       "        vertical-align: middle;\n",
       "    }\n",
       "\n",
       "    .dataframe tbody tr th {\n",
       "        vertical-align: top;\n",
       "    }\n",
       "\n",
       "    .dataframe thead th {\n",
       "        text-align: right;\n",
       "    }\n",
       "</style>\n",
       "<table border=\"1\" class=\"dataframe\">\n",
       "  <thead>\n",
       "    <tr style=\"text-align: right;\">\n",
       "      <th></th>\n",
       "      <th>title</th>\n",
       "      <th>wiki_link</th>\n",
       "      <th>developer</th>\n",
       "      <th>publisher_na</th>\n",
       "      <th>publisher_eu</th>\n",
       "      <th>release_na</th>\n",
       "      <th>release_eu</th>\n",
       "      <th>img</th>\n",
       "      <th>genre</th>\n",
       "      <th>mode</th>\n",
       "    </tr>\n",
       "  </thead>\n",
       "  <tbody>\n",
       "    <tr>\n",
       "      <th>0</th>\n",
       "      <td>The 3-D Battles of WorldRunner</td>\n",
       "      <td>https://en.wikipedia.org/wiki/The_3-D_Battles_...</td>\n",
       "      <td>Square</td>\n",
       "      <td>Acclaim Entertainment</td>\n",
       "      <td>Unreleased</td>\n",
       "      <td>September 1987</td>\n",
       "      <td>Unreleased</td>\n",
       "      <td>https://upload.wikimedia.org/wikipedia/en/thum...</td>\n",
       "      <td>Rail shooter, Platform</td>\n",
       "      <td>Single-player</td>\n",
       "    </tr>\n",
       "    <tr>\n",
       "      <th>1</th>\n",
       "      <td>8 Eyes</td>\n",
       "      <td>https://en.wikipedia.org/wiki/8_Eyes</td>\n",
       "      <td>Thinking Rabbit</td>\n",
       "      <td>Taxan</td>\n",
       "      <td>Unreleased</td>\n",
       "      <td>January 1990</td>\n",
       "      <td>Unreleased</td>\n",
       "      <td>https://upload.wikimedia.org/wikipedia/en/thum...</td>\n",
       "      <td>Platform</td>\n",
       "      <td>Single-player  Multiplayer</td>\n",
       "    </tr>\n",
       "    <tr>\n",
       "      <th>2</th>\n",
       "      <td>10-Yard Fight</td>\n",
       "      <td>https://en.wikipedia.org/wiki/10-Yard_Fight</td>\n",
       "      <td>Irem</td>\n",
       "      <td>Nintendo</td>\n",
       "      <td>Nintendo</td>\n",
       "      <td>October 18, 1985</td>\n",
       "      <td>December 6, 1986</td>\n",
       "      <td>https://upload.wikimedia.org/wikipedia/en/thum...</td>\n",
       "      <td>Sports (American football)</td>\n",
       "      <td>Single-player, multiplayer</td>\n",
       "    </tr>\n",
       "    <tr>\n",
       "      <th>3</th>\n",
       "      <td>720°</td>\n",
       "      <td>https://en.wikipedia.org/wiki/720%C2%B0</td>\n",
       "      <td>Beam Software</td>\n",
       "      <td>Mindscape</td>\n",
       "      <td>Unreleased</td>\n",
       "      <td>November 1989</td>\n",
       "      <td>Unreleased</td>\n",
       "      <td>https://upload.wikimedia.org/wikipedia/en/thum...</td>\n",
       "      <td>Sports</td>\n",
       "      <td>Up to 2 players, alternating turns</td>\n",
       "    </tr>\n",
       "    <tr>\n",
       "      <th>4</th>\n",
       "      <td>1942</td>\n",
       "      <td>https://en.wikipedia.org/wiki/1942_(video_game)</td>\n",
       "      <td>Micronics</td>\n",
       "      <td>Capcom</td>\n",
       "      <td>Unreleased</td>\n",
       "      <td>November 1, 1986</td>\n",
       "      <td>Unreleased</td>\n",
       "      <td>https://upload.wikimedia.org/wikipedia/en/thum...</td>\n",
       "      <td>Scrolling shooter</td>\n",
       "      <td>Single player, 2 player co-op</td>\n",
       "    </tr>\n",
       "  </tbody>\n",
       "</table>\n",
       "</div>"
      ],
      "text/plain": [
       "                            title  \\\n",
       "0  The 3-D Battles of WorldRunner   \n",
       "1                          8 Eyes   \n",
       "2                   10-Yard Fight   \n",
       "3                            720°   \n",
       "4                            1942   \n",
       "\n",
       "                                           wiki_link        developer  \\\n",
       "0  https://en.wikipedia.org/wiki/The_3-D_Battles_...           Square   \n",
       "1               https://en.wikipedia.org/wiki/8_Eyes  Thinking Rabbit   \n",
       "2        https://en.wikipedia.org/wiki/10-Yard_Fight             Irem   \n",
       "3            https://en.wikipedia.org/wiki/720%C2%B0    Beam Software   \n",
       "4    https://en.wikipedia.org/wiki/1942_(video_game)        Micronics   \n",
       "\n",
       "            publisher_na publisher_eu        release_na        release_eu  \\\n",
       "0  Acclaim Entertainment   Unreleased    September 1987        Unreleased   \n",
       "1                  Taxan   Unreleased      January 1990        Unreleased   \n",
       "2               Nintendo     Nintendo  October 18, 1985  December 6, 1986   \n",
       "3              Mindscape   Unreleased     November 1989        Unreleased   \n",
       "4                 Capcom   Unreleased  November 1, 1986        Unreleased   \n",
       "\n",
       "                                                 img  \\\n",
       "0  https://upload.wikimedia.org/wikipedia/en/thum...   \n",
       "1  https://upload.wikimedia.org/wikipedia/en/thum...   \n",
       "2  https://upload.wikimedia.org/wikipedia/en/thum...   \n",
       "3  https://upload.wikimedia.org/wikipedia/en/thum...   \n",
       "4  https://upload.wikimedia.org/wikipedia/en/thum...   \n",
       "\n",
       "                        genre                                mode  \n",
       "0      Rail shooter, Platform                       Single-player  \n",
       "1                    Platform          Single-player  Multiplayer  \n",
       "2  Sports (American football)          Single-player, multiplayer  \n",
       "3                      Sports  Up to 2 players, alternating turns  \n",
       "4           Scrolling shooter       Single player, 2 player co-op  "
      ]
     },
     "execution_count": 3,
     "metadata": {},
     "output_type": "execute_result"
    }
   ],
   "source": [
    "df.head()"
   ]
  },
  {
   "cell_type": "code",
   "execution_count": 6,
   "id": "e749ebf2",
   "metadata": {},
   "outputs": [
    {
     "data": {
      "text/plain": [
       "50"
      ]
     },
     "execution_count": 6,
     "metadata": {},
     "output_type": "execute_result"
    }
   ],
   "source": [
    "df['genre'].isnull().sum()"
   ]
  },
  {
   "cell_type": "code",
   "execution_count": 13,
   "id": "ab6be0c8",
   "metadata": {},
   "outputs": [
    {
     "data": {
      "text/plain": [
       "title            0\n",
       "wiki_link        2\n",
       "developer        0\n",
       "publisher_na     0\n",
       "publisher_eu     0\n",
       "release_na       0\n",
       "release_eu       0\n",
       "img             47\n",
       "genre           50\n",
       "mode            69\n",
       "dtype: int64"
      ]
     },
     "execution_count": 13,
     "metadata": {},
     "output_type": "execute_result"
    }
   ],
   "source": [
    "df.isnull().sum()"
   ]
  },
  {
   "cell_type": "code",
   "execution_count": 7,
   "id": "d6f8b9d5",
   "metadata": {},
   "outputs": [
    {
     "data": {
      "text/plain": [
       "Platform                                   82\n",
       "Action                                     37\n",
       "Sports                                     36\n",
       "Scrolling shooter                          20\n",
       "Action-adventure                           20\n",
       "                                           ..\n",
       "Turn-based strategy, turn-based tactics     1\n",
       "Sports, Fighting                            1\n",
       "Action, survival horror                     1\n",
       "Traditional soccer simulation               1\n",
       "Action role-playing, platform               1\n",
       "Name: genre, Length: 268, dtype: int64"
      ]
     },
     "execution_count": 7,
     "metadata": {},
     "output_type": "execute_result"
    }
   ],
   "source": [
    "df['genre'].value_counts()"
   ]
  },
  {
   "cell_type": "code",
   "execution_count": 10,
   "id": "d71ff36b",
   "metadata": {},
   "outputs": [
    {
     "data": {
      "text/html": [
       "<div>\n",
       "<style scoped>\n",
       "    .dataframe tbody tr th:only-of-type {\n",
       "        vertical-align: middle;\n",
       "    }\n",
       "\n",
       "    .dataframe tbody tr th {\n",
       "        vertical-align: top;\n",
       "    }\n",
       "\n",
       "    .dataframe thead th {\n",
       "        text-align: right;\n",
       "    }\n",
       "</style>\n",
       "<table border=\"1\" class=\"dataframe\">\n",
       "  <thead>\n",
       "    <tr style=\"text-align: right;\">\n",
       "      <th></th>\n",
       "      <th>title</th>\n",
       "      <th>wiki_link</th>\n",
       "      <th>developer</th>\n",
       "      <th>publisher_na</th>\n",
       "      <th>publisher_eu</th>\n",
       "      <th>release_na</th>\n",
       "      <th>release_eu</th>\n",
       "      <th>img</th>\n",
       "      <th>genre</th>\n",
       "      <th>mode</th>\n",
       "    </tr>\n",
       "  </thead>\n",
       "  <tbody>\n",
       "    <tr>\n",
       "      <th>count</th>\n",
       "      <td>713</td>\n",
       "      <td>711</td>\n",
       "      <td>713</td>\n",
       "      <td>713</td>\n",
       "      <td>713</td>\n",
       "      <td>713</td>\n",
       "      <td>713</td>\n",
       "      <td>666</td>\n",
       "      <td>663</td>\n",
       "      <td>644</td>\n",
       "    </tr>\n",
       "    <tr>\n",
       "      <th>unique</th>\n",
       "      <td>713</td>\n",
       "      <td>702</td>\n",
       "      <td>180</td>\n",
       "      <td>71</td>\n",
       "      <td>47</td>\n",
       "      <td>119</td>\n",
       "      <td>125</td>\n",
       "      <td>649</td>\n",
       "      <td>268</td>\n",
       "      <td>115</td>\n",
       "    </tr>\n",
       "    <tr>\n",
       "      <th>top</th>\n",
       "      <td>The 3-D Battles of WorldRunner</td>\n",
       "      <td>https://en.wikipedia.org/wiki/Wheel_of_Fortune...</td>\n",
       "      <td>Konami</td>\n",
       "      <td>Nintendo</td>\n",
       "      <td>Unreleased</td>\n",
       "      <td>Unreleased</td>\n",
       "      <td>Unreleased</td>\n",
       "      <td>https://upload.wikimedia.org/wikipedia/commons...</td>\n",
       "      <td>Platform</td>\n",
       "      <td>Single-player</td>\n",
       "    </tr>\n",
       "    <tr>\n",
       "      <th>freq</th>\n",
       "      <td>1</td>\n",
       "      <td>4</td>\n",
       "      <td>47</td>\n",
       "      <td>72</td>\n",
       "      <td>365</td>\n",
       "      <td>36</td>\n",
       "      <td>366</td>\n",
       "      <td>4</td>\n",
       "      <td>82</td>\n",
       "      <td>336</td>\n",
       "    </tr>\n",
       "  </tbody>\n",
       "</table>\n",
       "</div>"
      ],
      "text/plain": [
       "                                 title  \\\n",
       "count                              713   \n",
       "unique                             713   \n",
       "top     The 3-D Battles of WorldRunner   \n",
       "freq                                 1   \n",
       "\n",
       "                                                wiki_link developer  \\\n",
       "count                                                 711       713   \n",
       "unique                                                702       180   \n",
       "top     https://en.wikipedia.org/wiki/Wheel_of_Fortune...    Konami   \n",
       "freq                                                    4        47   \n",
       "\n",
       "       publisher_na publisher_eu  release_na  release_eu  \\\n",
       "count           713          713         713         713   \n",
       "unique           71           47         119         125   \n",
       "top        Nintendo   Unreleased  Unreleased  Unreleased   \n",
       "freq             72          365          36         366   \n",
       "\n",
       "                                                      img     genre  \\\n",
       "count                                                 666       663   \n",
       "unique                                                649       268   \n",
       "top     https://upload.wikimedia.org/wikipedia/commons...  Platform   \n",
       "freq                                                    4        82   \n",
       "\n",
       "                 mode  \n",
       "count             644  \n",
       "unique            115  \n",
       "top     Single-player  \n",
       "freq              336  "
      ]
     },
     "execution_count": 10,
     "metadata": {},
     "output_type": "execute_result"
    }
   ],
   "source": [
    "df.describe()"
   ]
  },
  {
   "cell_type": "code",
   "execution_count": 12,
   "id": "08478926",
   "metadata": {},
   "outputs": [
    {
     "data": {
      "text/plain": [
       "title           object\n",
       "wiki_link       object\n",
       "developer       object\n",
       "publisher_na    object\n",
       "publisher_eu    object\n",
       "release_na      object\n",
       "release_eu      object\n",
       "img             object\n",
       "genre           object\n",
       "mode            object\n",
       "dtype: object"
      ]
     },
     "execution_count": 12,
     "metadata": {},
     "output_type": "execute_result"
    }
   ],
   "source": [
    "df.dtypes"
   ]
  },
  {
   "cell_type": "code",
   "execution_count": 14,
   "id": "c5a657a2",
   "metadata": {},
   "outputs": [
    {
     "ename": "AttributeError",
     "evalue": "'Series' object has no attribute 'split'",
     "output_type": "error",
     "traceback": [
      "\u001b[0;31m---------------------------------------------------------------------------\u001b[0m",
      "\u001b[0;31mAttributeError\u001b[0m                            Traceback (most recent call last)",
      "\u001b[0;32m/var/folders/4l/_v5f0wfx0qz7l7vzpf4qtnmc0000gn/T/ipykernel_32353/62893962.py\u001b[0m in \u001b[0;36m<module>\u001b[0;34m\u001b[0m\n\u001b[0;32m----> 1\u001b[0;31m \u001b[0mdf\u001b[0m\u001b[0;34m[\u001b[0m\u001b[0;34m'genre_list'\u001b[0m\u001b[0;34m]\u001b[0m \u001b[0;34m=\u001b[0m \u001b[0;34m[\u001b[0m\u001b[0mstrip\u001b[0m\u001b[0;34m(\u001b[0m\u001b[0mi\u001b[0m\u001b[0;34m)\u001b[0m \u001b[0;32mfor\u001b[0m \u001b[0mi\u001b[0m \u001b[0;32min\u001b[0m \u001b[0mdf\u001b[0m\u001b[0;34m[\u001b[0m\u001b[0;34m'genre'\u001b[0m\u001b[0;34m]\u001b[0m\u001b[0;34m.\u001b[0m\u001b[0msplit\u001b[0m\u001b[0;34m(\u001b[0m\u001b[0;34m\",\"\u001b[0m\u001b[0;34m)\u001b[0m\u001b[0;34m]\u001b[0m\u001b[0;34m\u001b[0m\u001b[0;34m\u001b[0m\u001b[0m\n\u001b[0m",
      "\u001b[0;32m~/opt/anaconda3/lib/python3.8/site-packages/pandas/core/generic.py\u001b[0m in \u001b[0;36m__getattr__\u001b[0;34m(self, name)\u001b[0m\n\u001b[1;32m   5485\u001b[0m         ):\n\u001b[1;32m   5486\u001b[0m             \u001b[0;32mreturn\u001b[0m \u001b[0mself\u001b[0m\u001b[0;34m[\u001b[0m\u001b[0mname\u001b[0m\u001b[0;34m]\u001b[0m\u001b[0;34m\u001b[0m\u001b[0;34m\u001b[0m\u001b[0m\n\u001b[0;32m-> 5487\u001b[0;31m         \u001b[0;32mreturn\u001b[0m \u001b[0mobject\u001b[0m\u001b[0;34m.\u001b[0m\u001b[0m__getattribute__\u001b[0m\u001b[0;34m(\u001b[0m\u001b[0mself\u001b[0m\u001b[0;34m,\u001b[0m \u001b[0mname\u001b[0m\u001b[0;34m)\u001b[0m\u001b[0;34m\u001b[0m\u001b[0;34m\u001b[0m\u001b[0m\n\u001b[0m\u001b[1;32m   5488\u001b[0m \u001b[0;34m\u001b[0m\u001b[0m\n\u001b[1;32m   5489\u001b[0m     \u001b[0;32mdef\u001b[0m \u001b[0m__setattr__\u001b[0m\u001b[0;34m(\u001b[0m\u001b[0mself\u001b[0m\u001b[0;34m,\u001b[0m \u001b[0mname\u001b[0m\u001b[0;34m:\u001b[0m \u001b[0mstr\u001b[0m\u001b[0;34m,\u001b[0m \u001b[0mvalue\u001b[0m\u001b[0;34m)\u001b[0m \u001b[0;34m->\u001b[0m \u001b[0;32mNone\u001b[0m\u001b[0;34m:\u001b[0m\u001b[0;34m\u001b[0m\u001b[0;34m\u001b[0m\u001b[0m\n",
      "\u001b[0;31mAttributeError\u001b[0m: 'Series' object has no attribute 'split'"
     ]
    }
   ],
   "source": [
    "df['genre_list'] = [strip(i) for i in df['genre'].split(\",\")]"
   ]
  },
  {
   "cell_type": "code",
   "execution_count": 15,
   "id": "56321384",
   "metadata": {},
   "outputs": [],
   "source": [
    "df2 = pd.read_csv(\"game_data_added.csv\")"
   ]
  },
  {
   "cell_type": "code",
   "execution_count": 16,
   "id": "8ba1ef2d",
   "metadata": {},
   "outputs": [
    {
     "data": {
      "text/plain": [
       "title            0\n",
       "developer        0\n",
       "publisher_na     0\n",
       "publisher_eu     0\n",
       "release_na       0\n",
       "release_eu       0\n",
       "img             23\n",
       "wiki_link        1\n",
       "genre           26\n",
       "mode            66\n",
       "dtype: int64"
      ]
     },
     "execution_count": 16,
     "metadata": {},
     "output_type": "execute_result"
    }
   ],
   "source": [
    "df2.isnull().sum()"
   ]
  },
  {
   "cell_type": "code",
   "execution_count": null,
   "id": "0d8a87f8",
   "metadata": {},
   "outputs": [],
   "source": []
  }
 ],
 "metadata": {
  "kernelspec": {
   "display_name": "Python 3 (ipykernel)",
   "language": "python",
   "name": "python3"
  },
  "language_info": {
   "codemirror_mode": {
    "name": "ipython",
    "version": 3
   },
   "file_extension": ".py",
   "mimetype": "text/x-python",
   "name": "python",
   "nbconvert_exporter": "python",
   "pygments_lexer": "ipython3",
   "version": "3.8.5"
  }
 },
 "nbformat": 4,
 "nbformat_minor": 5
}
